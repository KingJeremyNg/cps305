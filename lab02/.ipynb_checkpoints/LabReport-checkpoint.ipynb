{
 "cells": [
  {
   "cell_type": "markdown",
   "metadata": {},
   "source": [
    "# CPS305 Fall 2019\n",
    "## Lab 2 Report\n",
    "## Jeremy Ng, Std ID 500882192\n",
    "\n",
    "19 09 2019\n",
    "\n",
    "# Introduction and Overall Comments\n",
    "\n",
    "Timeit was a pain to use."
   ]
  },
  {
   "cell_type": "markdown",
   "metadata": {},
   "source": [
    "## Solution for exercise 1"
   ]
  },
  {
   "cell_type": "code",
   "execution_count": 3,
   "metadata": {},
   "outputs": [],
   "source": [
    "# Python code and its output\n",
    "import matplotlib.pyplot as plot\n",
    "import timeit\n",
    "import random\n",
    "\n",
    "timeGet = []\n",
    "timeUpdate = []\n",
    "count = []\n",
    "size = 1000000\n",
    "for i in range(0, size, 50000) :\n",
    "    dic = {x: None for x in range(i)}\n",
    "    rand = random.randint(0, i)\n",
    "\n",
    "    timerGet = timeit.Timer(\"dic.get(rand)\" ,\"from __main__ import dic, rand\")\n",
    "    timerUpdate = timeit.Timer(\"dic.update({rand: 1})\" ,\"from __main__ import dic, rand\")\n",
    "\n",
    "    timeGet.append(timerGet.timeit(number = 100))\n",
    "    timeUpdate.append(timerUpdate.timeit(number = 100))\n",
    "    count.append(i)\n",
    "\n",
    "plot.scatter(count, timeGet, color = 'r', marker = '+')\n",
    "plot.scatter(count, timeUpdate, color = 'b', marker = '+')\n",
    "plot.xlabel(\"Size\")\n",
    "plot.ylabel(\"Time\")\n",
    "plot.show()"
   ]
  },
  {
   "cell_type": "markdown",
   "metadata": {},
   "source": [
    "**Discussion of the Results**\n",
    "\n",
    "Dictionary proves to be O(1)"
   ]
  },
  {
   "cell_type": "markdown",
   "metadata": {},
   "source": [
    "## Solution for Exercise 2"
   ]
  },
  {
   "cell_type": "code",
   "execution_count": 4,
   "metadata": {},
   "outputs": [],
   "source": [
    "# Python code and its output\n",
    "import matplotlib.pyplot as plot\n",
    "import timeit\n",
    "import random\n",
    "\n",
    "timeDeleteDict = []\n",
    "timeDeleteList = []\n",
    "count = []\n",
    "size = 2000000\n",
    "\n",
    "for i in range(10000, size, 50000) :\n",
    "    rand = random.randint(0, i)\n",
    "    dic = {x: random.randint(0, i) for x in range(i)}\n",
    "    lis = [x for x in range(i)]\n",
    "    keys = list(dic.keys())\n",
    "\n",
    "    dictTimer = timeit.Timer(\"del dic[keys[random.randint(0, len(keys) - 1)]]\", \"from __main__ import dic, keys, random\")\n",
    "    listTimer = timeit.Timer(\"del lis[random.randint(0, i)]\", \"from __main__ import lis, random, i\")\n",
    "    \n",
    "    timeDeleteDict.append(dictTimer.timeit(number = 10))\n",
    "    timeDeleteList.append(listTimer.timeit(number = 10))\n",
    "    count.append(i)\n",
    "\n",
    "plot.scatter(count, timeDeleteDict, color = 'r', marker = '+')\n",
    "plot.scatter(count, timeDeleteList, color = 'b', marker = '+')\n",
    "plot.xlabel(\"Size\")\n",
    "plot.ylabel(\"Time\")\n",
    "plot.show()"
   ]
  },
  {
   "cell_type": "markdown",
   "metadata": {},
   "source": [
    "**Discussion of the Results**\n",
    "\n",
    "..."
   ]
  }
 ],
 "metadata": {
  "kernelspec": {
   "display_name": "Python 3",
   "language": "python",
   "name": "python3"
  },
  "language_info": {
   "codemirror_mode": {
    "name": "ipython",
    "version": 3
   },
   "file_extension": ".py",
   "mimetype": "text/x-python",
   "name": "python",
   "nbconvert_exporter": "python",
   "pygments_lexer": "ipython3",
   "version": "3.7.4"
  },
  "latex_envs": {
   "LaTeX_envs_menu_present": true,
   "autoclose": false,
   "autocomplete": true,
   "bibliofile": "biblio.bib",
   "cite_by": "apalike",
   "current_citInitial": 1,
   "eqLabelWithNumbers": true,
   "eqNumInitial": 1,
   "hotkeys": {
    "equation": "Ctrl-E",
    "itemize": "Ctrl-I"
   },
   "labels_anchors": false,
   "latex_user_defs": false,
   "report_style_numbering": false,
   "user_envs_cfg": false
  }
 },
 "nbformat": 4,
 "nbformat_minor": 2
}
