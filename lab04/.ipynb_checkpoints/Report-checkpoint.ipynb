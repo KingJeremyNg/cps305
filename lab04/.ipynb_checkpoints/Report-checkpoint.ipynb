{
 "cells": [
  {
   "cell_type": "markdown",
   "metadata": {},
   "source": [
    "# CPS305 Fall 2019\n",
    "## Lab 4 Report\n",
    "## Jeremy Ng, Std ID 500882192\n",
    "\n",
    "02 10 2019\n",
    "\n",
    "# Introduction and Overall Comments\n",
    "\n",
    "Turtle took a while to get used to."
   ]
  },
  {
   "cell_type": "markdown",
   "metadata": {},
   "source": [
    "## Solution for exercise 1"
   ]
  },
  {
   "cell_type": "code",
   "execution_count": 1,
   "metadata": {},
   "outputs": [],
   "source": [
    "import turtle\n",
    "import random\n",
    "\n",
    "def tree(branchLen,t):\n",
    "    if branchLen > 5:\n",
    "        if branchLen > 45 :\n",
    "            t.pencolor(\"brown\")\n",
    "        elif branchLen > 15 :\n",
    "            t.pencolor(\"green\")\n",
    "        else :\n",
    "            t.pencolor(\"lightgreen\")\n",
    "\n",
    "        t.pendown()\n",
    "        t.pensize(branchLen / 10)\n",
    "\n",
    "        rand = random.randint(15, 45)\n",
    "        t.forward(branchLen)\n",
    "        t.right(rand)\n",
    "\n",
    "        randLen = random.randint(5, 15)\n",
    "        tree(branchLen - randLen, t)\n",
    "        t.left(rand * 2)\n",
    "\n",
    "        randLen = random.randint(5, 15)\n",
    "        tree(branchLen - randLen, t)\n",
    "        t.right(rand)\n",
    "\n",
    "        t.penup()\n",
    "        t.backward(branchLen)\n",
    "\n",
    "def main() :\n",
    "    t = turtle.Turtle()\n",
    "    t._tracer(0)\n",
    "    myWin = turtle.Screen()\n",
    "    t.left(90)\n",
    "    t.up()\n",
    "    t.backward(350)\n",
    "    t.down()\n",
    "    t.color(\"green\")\n",
    "    tree(120,t)\n",
    "    myWin.exitonclick()"
   ]
  },
  {
   "cell_type": "markdown",
   "metadata": {},
   "source": [
    "**Discussion of the Results**\n",
    "\n",
    "I succesfully generated a random tree with varying colors."
   ]
  },
  {
   "cell_type": "markdown",
   "metadata": {},
   "source": [
    "[image]: tree.png"
   ]
  },
  {
   "cell_type": "markdown",
   "metadata": {},
   "source": [
    "## Solution for Exercise 2"
   ]
  },
  {
   "cell_type": "code",
   "execution_count": 3,
   "metadata": {},
   "outputs": [
    {
     "name": "stderr",
     "output_type": "stream",
     "text": [
      "..........\n",
      "----------------------------------------------------------------------\n",
      "Ran 10 tests in 0.012s\n",
      "\n",
      "OK\n"
     ]
    }
   ],
   "source": [
    "import unittest\n",
    "\n",
    "from mySolution import power, powerH, bCoefficient\n",
    "\n",
    "class tester(unittest.TestCase) :\n",
    "\n",
    "    def testPowerNormal(self) :\n",
    "        resultA = power(2, 2)\n",
    "        resultB = powerH(2, 2)\n",
    "        self.assertEqual(resultA, 4)\n",
    "        self.assertEqual(resultB, 4)\n",
    "    \n",
    "    def testPowerExtreme(self) :\n",
    "        resultA = power(2, 100)\n",
    "        resultB = powerH(2, 100)\n",
    "        self.assertEqual(resultA, 1267650600228229401496703205376)\n",
    "        self.assertEqual(resultB, 1267650600228229401496703205376)\n",
    "    \n",
    "    def testPowerNegative(self) :\n",
    "        resultA = power(2, -1)\n",
    "        resultB = powerH(2, -1)\n",
    "        self.assertEqual(resultA, \"Invalid input\")\n",
    "        self.assertEqual(resultB, \"Invalid input\")\n",
    "    \n",
    "    def testPowerZero(self) :\n",
    "        resultA = power(2, 0)\n",
    "        resultB = powerH(2, 0)\n",
    "        self.assertEqual(resultA, 1)\n",
    "        self.assertEqual(resultB, 1)\n",
    "    \n",
    "    def testPowerOne(self) :\n",
    "        resultA = power(2, 1)\n",
    "        resultB = powerH(2, 1)\n",
    "        self.assertEqual(resultA, 2)\n",
    "        self.assertEqual(resultB, 2)\n",
    "    \n",
    "    def testCoefficientNormal(self) :\n",
    "        result = bCoefficient(2, 1)\n",
    "        self.assertEqual(result, 2)\n",
    "    \n",
    "    def testCoefficientExtreme(self) :\n",
    "        result = bCoefficient(10, 5)\n",
    "        self.assertEqual(result, 252)\n",
    "\n",
    "    def testCoefficientNegative(self) :\n",
    "        result = bCoefficient(5, -3)\n",
    "        self.assertEqual(result, \"Invalid input\")\n",
    "    \n",
    "    def testCoefficientZero(self) :\n",
    "        result = bCoefficient(0, 0)\n",
    "        self.assertEqual(result, 1)\n",
    "    \n",
    "    def testCoefficientEqual(self) :\n",
    "        result = bCoefficient(5, 5)\n",
    "        self.assertEqual(result, 1)    \n",
    "\n",
    "if __name__ == '__main__' :\n",
    "    unittest.main(argv = ['first-arg-is-ignored'], exit = False)"
   ]
  },
  {
   "cell_type": "markdown",
   "metadata": {},
   "source": [
    "**Discussion of the Results**\n",
    "\n",
    "First 5 tests are for power() and powerH()\n",
    "Last 5 tests are for bCoefficient()"
   ]
  }
 ],
 "metadata": {
  "kernelspec": {
   "display_name": "Python 3",
   "language": "python",
   "name": "python3"
  },
  "language_info": {
   "codemirror_mode": {
    "name": "ipython",
    "version": 3
   },
   "file_extension": ".py",
   "mimetype": "text/x-python",
   "name": "python",
   "nbconvert_exporter": "python",
   "pygments_lexer": "ipython3",
   "version": "3.7.4"
  },
  "latex_envs": {
   "LaTeX_envs_menu_present": true,
   "autoclose": false,
   "autocomplete": true,
   "bibliofile": "biblio.bib",
   "cite_by": "apalike",
   "current_citInitial": 1,
   "eqLabelWithNumbers": true,
   "eqNumInitial": 1,
   "hotkeys": {
    "equation": "Ctrl-E",
    "itemize": "Ctrl-I"
   },
   "labels_anchors": false,
   "latex_user_defs": false,
   "report_style_numbering": false,
   "user_envs_cfg": false
  }
 },
 "nbformat": 4,
 "nbformat_minor": 2
}
