{
 "cells": [
  {
   "cell_type": "markdown",
   "metadata": {},
   "source": [
    "# CPS305 Fall 2019\n",
    "## Lab 6 Report\n",
    "## Jeremy Ng, Std ID 500882192\n",
    "\n",
    "27 10 2019\n",
    "\n",
    "# Introduction and Overall Comments\n",
    "\n",
    "I had trouble getting timeit to work."
   ]
  },
  {
   "cell_type": "markdown",
   "metadata": {},
   "source": [
    "## Solution for exercise 1"
   ]
  },
  {
   "cell_type": "code",
   "execution_count": 2,
   "metadata": {},
   "outputs": [
    {
     "data": {
      "image/png": "[encoded data removed]",
      "text/plain": [
       "<Figure size 432x288 with 1 Axes>"
      ]
     },
     "metadata": {
      "needs_background": "light"
     },
     "output_type": "display_data"
    }
   ],
   "source": [
    "import matplotlib.pyplot as plot\n",
    "import timeit\n",
    "import random\n",
    "\n",
    "\n",
    "def quickSort(alist) :\n",
    "    quickSortHelper(alist, 0, len(alist) - 1)\n",
    "\n",
    "\n",
    "def quickSortHelper(alist, first, last) :\n",
    "    if first < last :\n",
    "\n",
    "        splitpoint = partition(alist, first, last)\n",
    "\n",
    "        quickSortHelper(alist, first, splitpoint - 1)\n",
    "        quickSortHelper(alist, splitpoint + 1, last)\n",
    "\n",
    "\n",
    "def partition(alist, first, last) :\n",
    "    pivotvalue = alist[first]\n",
    "\n",
    "    leftmark = first+1\n",
    "    rightmark = last\n",
    "\n",
    "    done = False\n",
    "    while not done :\n",
    "\n",
    "        while leftmark <= rightmark and alist[leftmark] <= pivotvalue :\n",
    "            leftmark = leftmark + 1\n",
    "\n",
    "        while alist[rightmark] >= pivotvalue and rightmark >= leftmark :\n",
    "            rightmark = rightmark - 1\n",
    "\n",
    "        if rightmark < leftmark :\n",
    "            done = True\n",
    "        else:\n",
    "            temp = alist[leftmark]\n",
    "            alist[leftmark] = alist[rightmark]\n",
    "            alist[rightmark] = temp\n",
    "\n",
    "    temp = alist[first]\n",
    "    alist[first] = alist[rightmark]\n",
    "    alist[rightmark] = temp\n",
    "\n",
    "    return rightmark\n",
    "\n",
    "\n",
    "def mo3_quickSort(alist) :\n",
    "    mo3_quickSortHelper(alist, 0, len(alist) - 1)\n",
    "\n",
    "\n",
    "def mo3_quickSortHelper(alist, first, last) :\n",
    "    if first < last :\n",
    "\n",
    "        splitpoint = mo3_partition(alist, first, last)\n",
    "\n",
    "        mo3_quickSortHelper(alist, first, splitpoint - 1)\n",
    "        mo3_quickSortHelper(alist, splitpoint + 1, last)\n",
    "\n",
    "\n",
    "def mo3_partition(alist, first, last) :\n",
    "\n",
    "    array = [alist[first], alist[len(alist) // 2], alist[last]]\n",
    "\n",
    "    if (array[1] > array[0] and array[1] < array[2]) or (array[1] > array[2] and array[1] < array[0]) :\n",
    "        alist[first] = array[1]\n",
    "        alist[((last - first) // 2 + first)] = array[0]\n",
    "        pivotvalue = array[1]\n",
    "\n",
    "    elif (array[2] > array[0] and array[2] < array[1]) or (array[2] > array[1] and array[2] < array[0]) :\n",
    "        alist[first] = array[2]\n",
    "        alist[last] = array[0]\n",
    "        pivotvalue = array[2]\n",
    "    else :\n",
    "        pivotvalue = array[0]\n",
    "\n",
    "    leftmark = first + 1\n",
    "    rightmark = last\n",
    "\n",
    "    done = False\n",
    "    while not done :\n",
    "\n",
    "        while leftmark <= rightmark and alist[leftmark] <= pivotvalue :\n",
    "            leftmark = leftmark + 1\n",
    "\n",
    "        while alist[rightmark] >= pivotvalue and rightmark >= leftmark :\n",
    "            rightmark = rightmark - 1\n",
    "\n",
    "        if rightmark < leftmark :\n",
    "            done = True\n",
    "        else:\n",
    "            temp = alist[leftmark]\n",
    "            alist[leftmark] = alist[rightmark]\n",
    "            alist[rightmark] = temp\n",
    "\n",
    "    temp = alist[first]\n",
    "    alist[first] = alist[rightmark]\n",
    "    alist[rightmark] = temp\n",
    "\n",
    "    return rightmark\n",
    "\n",
    "size = []\n",
    "quickSortTime = []\n",
    "mo3_quickSortTime = []\n",
    "\n",
    "count = 10000\n",
    "for n in range(0, count, 100) :\n",
    "    size.append(n)\n",
    "    array1 = []\n",
    "    array2 = []\n",
    "\n",
    "    for i in range(n) :\n",
    "        number = random.randrange(1000000)\n",
    "        array1.append(number)\n",
    "        array2.append(number)\n",
    "\n",
    "    timer1 = timeit.Timer(\"quickSort(array1)\",\n",
    "                          \"from __main__ import quickSort, array1\")\n",
    "    timer2 = timeit.Timer(\"mo3_quickSort(array2)\",\n",
    "                          \"from __main__ import mo3_quickSort, array2\")\n",
    "\n",
    "    quickSortTime.append(timer1.timeit(number = 1))\n",
    "    mo3_quickSortTime.append(timer2.timeit(number = 1))\n",
    "\n",
    "plot.scatter(size, quickSortTime, color = 'r', marker = '+')\n",
    "plot.scatter(size, mo3_quickSortTime, color = 'b', marker = '+')\n",
    "plot.xlabel(\"Size\")\n",
    "plot.ylabel(\"Time\")\n",
    "plot.show()"
   ]
  },
  {
   "cell_type": "markdown",
   "metadata": {},
   "source": [
    "**Discussion of the Results**\n",
    "\n",
    "I generated arrays of various sizes to send through quickSort() and mo3_quickSort(). I used timeit to record the time and plotted it with matplotlib.\n",
    "\n",
    "The graph shows that quickSort() and mo3_quickSort() are very similar with order of magnitude O(nlogn)."
   ]
  },
  {
   "cell_type": "markdown",
   "metadata": {},
   "source": [
    "## Solution for Exercise 2"
   ]
  },
  {
   "cell_type": "code",
   "execution_count": 3,
   "metadata": {},
   "outputs": [
    {
     "name": "stderr",
     "output_type": "stream",
     "text": [
      ".....\n",
      "----------------------------------------------------------------------\n",
      "Ran 5 tests in 0.017s\n",
      "\n",
      "OK\n"
     ]
    }
   ],
   "source": [
    "import unittest\n",
    "from sorting import mo3_quickSort\n",
    "\n",
    "class tester(unittest.TestCase) :\n",
    "    def testNormal(self) :\n",
    "        list = [5, 4, 3, 2, 1]\n",
    "        mo3_quickSort(list)\n",
    "        self.assertEqual(list, [1, 2, 3, 4, 5])\n",
    "\n",
    "    def testOne(self) :\n",
    "        list = [1]\n",
    "        mo3_quickSort(list)\n",
    "        self.assertEqual(list, [1])\n",
    "\n",
    "    def testEmpty(self) :\n",
    "        list = []\n",
    "        mo3_quickSort(list)\n",
    "        self.assertEqual(list, [])\n",
    "\n",
    "    def testSame(self) :\n",
    "        list = [2, 2, 2]\n",
    "        mo3_quickSort(list)\n",
    "        self.assertEqual(list, [2, 2, 2])\n",
    "\n",
    "    def testSameMulti(self) :\n",
    "        list = [5, 5, 5, 1, 1, 1, 10, 10, 10]\n",
    "        mo3_quickSort(list)\n",
    "        self.assertEqual(list, [1, 1, 1, 5, 5, 5, 10, 10, 10])\n",
    "\n",
    "if __name__ == '__main__' :\n",
    "    unittest.main(argv = ['first-arg-is-ignored'], exit = False)"
   ]
  },
  {
   "cell_type": "markdown",
   "metadata": {},
   "source": [
    "**Discussion of the Results**\n",
    "\n",
    "..."
   ]
  }
 ],
 "metadata": {
  "kernelspec": {
   "display_name": "Python 3",
   "language": "python",
   "name": "python3"
  },
  "language_info": {
   "codemirror_mode": {
    "name": "ipython",
    "version": 3
   },
   "file_extension": ".py",
   "mimetype": "text/x-python",
   "name": "python",
   "nbconvert_exporter": "python",
   "pygments_lexer": "ipython3",
   "version": "3.7.4"
  },
  "latex_envs": {
   "LaTeX_envs_menu_present": true,
   "autoclose": false,
   "autocomplete": true,
   "bibliofile": "biblio.bib",
   "cite_by": "apalike",
   "current_citInitial": 1,
   "eqLabelWithNumbers": true,
   "eqNumInitial": 1,
   "hotkeys": {
    "equation": "Ctrl-E",
    "itemize": "Ctrl-I"
   },
   "labels_anchors": false,
   "latex_user_defs": false,
   "report_style_numbering": false,
   "user_envs_cfg": false
  }
 },
 "nbformat": 4,
 "nbformat_minor": 2
}
