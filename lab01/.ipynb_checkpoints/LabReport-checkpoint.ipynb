{
 "cells": [
  {
   "cell_type": "markdown",
   "metadata": {},
   "source": [
    "# CPS305 Fall 2019\n",
    "## Lab 1 Report\n",
    "## Mister Jeremy Ng, Std ID 500882192\n",
    "\n",
    "12 09 1997\n",
    "\n",
    "# Introduction and Overall Comments\n",
    "\n",
    "This is the submission of Mister Jeremy Ng. My unit tests does not seem to run."
   ]
  },
  {
   "cell_type": "markdown",
   "metadata": {},
   "source": [
    "## Solution for exercise 1"
   ]
  },
  {
   "cell_type": "code",
   "execution_count": 9,
   "metadata": {},
   "outputs": [
    {
     "name": "stdout",
     "output_type": "stream",
     "text": [
      "String\t\t\t\t\tScore\n",
      "metqtajuocndyhrvzpj navavkyw\t\t14.285714\t\t100\n",
      "methtajuocndyhrvzpj navavkyw\t\t17.857143\t\t200\n",
      "methinkuocndyhrvzpj navavkyw\t\t28.571429\t\t300\n",
      "methinks cndyhrvzpj navavkyw\t\t35.714286\t\t400\n",
      "methinks it yhrvzpj navavkyw\t\t46.428571\t\t500\n",
      "methinks it is vzpj navavkyw\t\t57.142857\t\t600\n",
      "methinks it is likj navavkyw\t\t67.857143\t\t700\n",
      "methinks it is like a weakyw\t\t89.285714\t\t800\n",
      "methinks it is like a weasel\t\t100.000000\t\t867\n"
     ]
    },
    {
     "data": {
      "image/png": "[encoded data removed]",
      "text/plain": [
       "<Figure size 432x288 with 1 Axes>"
      ]
     },
     "metadata": {
      "needs_background": "light"
     },
     "output_type": "display_data"
    }
   ],
   "source": [
    "# Python code and its output\n",
    "from mySolution import monkeyTypist\n",
    "monkeyTypist()"
   ]
  },
  {
   "cell_type": "markdown",
   "metadata": {},
   "source": [
    "**Discussion of the Results**\n",
    "\n",
    "Generator, Scorer and Plotter works normally."
   ]
  },
  {
   "cell_type": "markdown",
   "metadata": {},
   "source": [
    "## Solution for Exercise 2"
   ]
  },
  {
   "cell_type": "code",
   "execution_count": 11,
   "metadata": {},
   "outputs": [
    {
     "name": "stderr",
     "output_type": "stream",
     "text": [
      "\n",
      "----------------------------------------------------------------------\n",
      "Ran 0 tests in 0.000s\n",
      "\n",
      "OK\n"
     ]
    }
   ],
   "source": [
    "# Python code and its output\n",
    "import unittest\n",
    "\n",
    "from mySolution import generate\n",
    "from mySolution import calcScore\n",
    "\n",
    "class calcScoreTest(unittest.TestCase) :\n",
    "    \n",
    "    def empty(self) :\n",
    "        result = calcScore([\"\"], [\"\"], 0)\n",
    "        self.assertEqual(result, 100)\n",
    "\n",
    "    def equal(self) :\n",
    "        data = [\"a\", \"b\", \"c\", \"d\"]\n",
    "        result = calcScore(data, [\"a\", \"b\", \"c\", \"d\"], 4)\n",
    "        self.assertEqual(result, 100)\n",
    "\n",
    "    def smaller(self) :\n",
    "        data = [\"a\", \"b\", \"d\", \"c\"]\n",
    "        result = calcScore(data, [\"a\", \"b\", \"c\", \"d\"], 4)\n",
    "        self.assertEqual(result, 50)\n",
    "\n",
    "class generateTest(unittest.TestCase) :\n",
    "\n",
    "    def empty(self) :\n",
    "        result = generate([\"\"], [\"a\", \"b\", \"c\", \"d\"], 0, 0, 27, [\"\"])\n",
    "        self.assertEqual(result , [])\n",
    "    \n",
    "    def equal(self) :\n",
    "        data = [\"a\", \"b\", \"c\", \"d\"]\n",
    "        result = generate(data, data, 3, 4, 4, data)\n",
    "        self.assertEqual(result , [\"a\", \"b\", \"c\", \"d\"])\n",
    "    \n",
    "    def smaller(self) :\n",
    "        data = [\"a\", \"b\", \"c\", \"d\"]\n",
    "        result = generate(data, [\"a\", \"b\", \"c\", \"d\"], 3, 4, 4, [\"a\", \"c\", \"d\", \"b\"])\n",
    "        self.assertEqual(result , [\"a\", \"b\", \"d\", \"b\"])\n",
    "\n",
    "if __name__ == '__main__':\n",
    "    unittest.main(argv=['first-arg-is-ignored'], exit=False)"
   ]
  },
  {
   "cell_type": "markdown",
   "metadata": {},
   "source": [
    "**Discussion of the Results**\n",
    "\n",
    "Not sure what I am doing wrong here. Tests are not running."
   ]
  }
 ],
 "metadata": {
  "kernelspec": {
   "display_name": "Python 3",
   "language": "python",
   "name": "python3"
  },
  "language_info": {
   "codemirror_mode": {
    "name": "ipython",
    "version": 3
   },
   "file_extension": ".py",
   "mimetype": "text/x-python",
   "name": "python",
   "nbconvert_exporter": "python",
   "pygments_lexer": "ipython3",
   "version": "3.7.4"
  },
  "latex_envs": {
   "LaTeX_envs_menu_present": true,
   "autoclose": false,
   "autocomplete": true,
   "bibliofile": "biblio.bib",
   "cite_by": "apalike",
   "current_citInitial": 1,
   "eqLabelWithNumbers": true,
   "eqNumInitial": 1,
   "hotkeys": {
    "equation": "Ctrl-E",
    "itemize": "Ctrl-I"
   },
   "labels_anchors": false,
   "latex_user_defs": false,
   "report_style_numbering": false,
   "user_envs_cfg": false
  }
 },
 "nbformat": 4,
 "nbformat_minor": 2
}
