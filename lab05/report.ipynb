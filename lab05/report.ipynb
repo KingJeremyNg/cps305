{
 "cells": [
  {
   "cell_type": "markdown",
   "metadata": {},
   "source": [
    "# CPS305 Fall 2019\n",
    "## Lab 5 Report\n",
    "## Jeremy Ng, Std ID 500882192\n",
    "\n",
    "09 10 2019\n",
    "\n",
    "# Introduction and Overall Comments\n",
    "\n",
    "It was normal."
   ]
  },
  {
   "cell_type": "markdown",
   "metadata": {},
   "source": [
    "## Solution for exercise 1"
   ]
  },
  {
   "cell_type": "code",
   "execution_count": 1,
   "metadata": {},
   "outputs": [
    {
     "name": "stderr",
     "output_type": "stream",
     "text": [
      ".....\n",
      "----------------------------------------------------------------------\n",
      "Ran 5 tests in 0.007s\n",
      "\n",
      "OK\n"
     ]
    }
   ],
   "source": [
    "import unittest\n",
    "from mySolution import HashTable\n",
    "\n",
    "class tester(unittest.TestCase) :\n",
    "    def testNormal(self) :\n",
    "        H = HashTable()\n",
    "        H[1] = \"cat\"\n",
    "        H[2] = \"dog\"\n",
    "        H[3] = \"chicken\"\n",
    "        self.assertEqual(H.data[3], \"chicken\")\n",
    "    \n",
    "    def testCollision(self) :\n",
    "        H = HashTable()\n",
    "        H[1] = \"cat\"\n",
    "        H[2] = \"dog\"\n",
    "        H[3] = \"duck\"\n",
    "        H[14] = \"chicken\"\n",
    "        self.assertEqual(H.data[4], \"chicken\")\n",
    "    \n",
    "    def testResize(self) :\n",
    "        H = HashTable()\n",
    "        H[1] = \"cat\"\n",
    "        H[2] = \"dog\"\n",
    "        H[3] = \"duck\"\n",
    "        H[4] = \"lion\"\n",
    "        H[5] = \"tiger\"\n",
    "        H[6] = \"bird\"\n",
    "        H[7] = \"cow\"\n",
    "        H[8] = \"goat\"\n",
    "        H[20] = \"chicken\"\n",
    "        self.assertEqual(H.data[20], \"chicken\")\n",
    "    \n",
    "    def testEmpty(self) :\n",
    "        H = HashTable()\n",
    "        H[1] = \"cat\"\n",
    "        H[2] = \"dog\"\n",
    "        H[3] = \"duck\"\n",
    "        H[4] = \"\"\n",
    "        self.assertEqual(H.slots[4], None)\n",
    "        self.assertEqual(H.data[4], None)\n",
    "    \n",
    "    def testOverwrite(self) :\n",
    "        H = HashTable()\n",
    "        H[1] = \"cat\"\n",
    "        H[2] = \"dog\"\n",
    "        H[3] = \"duck\"\n",
    "        H[3] = \"chicken\"\n",
    "        self.assertEqual(H.data[3], \"chicken\")\n",
    "\n",
    "if __name__ == '__main__' :\n",
    "    unittest.main(argv = ['first-arg-is-ignored'], exit = False)"
   ]
  },
  {
   "cell_type": "markdown",
   "metadata": {},
   "source": [
    "**Discussion of the Results**\n",
    "\n",
    "1. Why did you choose a particular resizing method? How much does your table grow at each resize operation?\n",
    "I made a new function called resize() which generated a temporary Hashtable object using the existing Hashtable object which replicates the input but using a larger table. With each resize operation I grew the table by a scale of 2.\n",
    "\n",
    "2. What loading factor threshold have used for the resizing the table and why that particular choice?\n",
    "I used 70% because as it reaches this percentage there will be more instances where the program has to rehash multiple times which will take more time and resources."
   ]
  }
 ],
 "metadata": {
  "kernelspec": {
   "display_name": "Python 3",
   "language": "python",
   "name": "python3"
  },
  "language_info": {
   "codemirror_mode": {
    "name": "ipython",
    "version": 3
   },
   "file_extension": ".py",
   "mimetype": "text/x-python",
   "name": "python",
   "nbconvert_exporter": "python",
   "pygments_lexer": "ipython3",
   "version": "3.7.4"
  },
  "latex_envs": {
   "LaTeX_envs_menu_present": true,
   "autoclose": false,
   "autocomplete": true,
   "bibliofile": "biblio.bib",
   "cite_by": "apalike",
   "current_citInitial": 1,
   "eqLabelWithNumbers": true,
   "eqNumInitial": 1,
   "hotkeys": {
    "equation": "Ctrl-E",
    "itemize": "Ctrl-I"
   },
   "labels_anchors": false,
   "latex_user_defs": false,
   "report_style_numbering": false,
   "user_envs_cfg": false
  }
 },
 "nbformat": 4,
 "nbformat_minor": 2
}
